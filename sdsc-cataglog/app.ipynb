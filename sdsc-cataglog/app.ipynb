{
 "cells": [
  {
   "cell_type": "markdown",
   "id": "10d739d5-8406-46c4-9a90-eff6b23b55a2",
   "metadata": {},
   "source": [
    "# Website\n",
    "Run the following cell to create a link to the website. Click the link to open the website.\n",
    "\n",
    "After starting the tool the user can input 3 keywords."
   ]
  },
  {
   "cell_type": "code",
   "execution_count": null,
   "id": "888673cb",
   "metadata": {},
   "outputs": [],
   "source": [
    "from app.app import app\n",
    "\n",
    "if __name__ == '__main__':\n",
    "    app.run_server(mode='external')"
   ]
  }
 ],
 "metadata": {
  "kernelspec": {
   "display_name": "catalogserver",
   "language": "python",
   "name": "catalogserver"
  },
  "language_info": {
   "codemirror_mode": {
    "name": "ipython",
    "version": 3
   },
   "file_extension": ".py",
   "mimetype": "text/x-python",
   "name": "python",
   "nbconvert_exporter": "python",
   "pygments_lexer": "ipython3",
   "version": "3.8.18"
  }
 },
 "nbformat": 4,
 "nbformat_minor": 5
}
