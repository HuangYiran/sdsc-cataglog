{
 "cells": [
  {
   "cell_type": "markdown",
   "id": "e4863475-ddba-4e10-95e8-84aeee5f98b7",
   "metadata": {},
   "source": [
    "# localization"
   ]
  },
  {
   "cell_type": "code",
   "execution_count": 1,
   "id": "e44ea08e",
   "metadata": {},
   "outputs": [],
   "source": [
    "from openml_request import search_top_related_local_datasets_with_cs"
   ]
  },
  {
   "cell_type": "markdown",
   "id": "8514fbde",
   "metadata": {},
   "source": [
    "Generate the text embedding"
   ]
  },
  {
   "cell_type": "code",
   "execution_count": 4,
   "id": "7ad27cbf",
   "metadata": {},
   "outputs": [],
   "source": [
    "keywords = [\"music\", \"album\", \"genres\"]"
   ]
  },
  {
   "cell_type": "markdown",
   "id": "6fd2cb46",
   "metadata": {},
   "source": [
    "Use the cosinus similarity to get related datasets:"
   ]
  },
  {
   "cell_type": "code",
   "execution_count": 5,
   "id": "1c523dca-d08e-4e3a-ac18-163bdc718646",
   "metadata": {
    "tags": []
   },
   "outputs": [
    {
     "name": "stderr",
     "output_type": "stream",
     "text": [
      "c:\\users\\nisch\\instructor-embedding\\InstructorEmbedding\\instructor.py:7: TqdmWarning: IProgress not found. Please update jupyter and ipywidgets. See https://ipywidgets.readthedocs.io/en/stable/user_install.html\n",
      "  from tqdm.autonotebook import trange\n"
     ]
    },
    {
     "name": "stdout",
     "output_type": "stream",
     "text": [
      "load INSTRUCTOR_Transformer\n",
      "max_seq_length  512\n",
      "For this, we recommend the following datasets:\n",
      "1.\n",
      "Dataset Name: Meta_Album_INS_Extended\n",
      "Dataset ID: 44340.0\n",
      "Dataset URL: https://www.openml.org/d/44340.0\n",
      "Dataset Description: Meta_Album_INS_Extended is a dataset containing information about various albums. It comprises 50,000 album entries and encompasses details like album title, release date, genre, artist, and album cover image. The dataset includes albums from a wide range of genres, including rock, pop, jazz, hip-hop, and classical. Each entry also includes additional attributes like the number of tracks, album duration, and language. The dataset is relevant for research, analyzing music trends, recommendation systems, and building music-related applications. It provides a comprehensive collection of album information that can be utilized for a variety of purposes in the field of music.\n",
      "--------------------------------------------------\n",
      "2.\n",
      "Dataset Name: Meta_Album_INS_Micro\n",
      "Dataset ID: 44276.0\n",
      "Dataset URL: https://www.openml.org/d/44276.0\n",
      "Dataset Description: The dataset Meta_Album_INS_Micro contains information about albums of various music genres. It includes attributes such as album name, artist name, release year, and genre. Additionally, it provides the length of the albums in minutes, as well as the number of tracks on each album. The dataset consists of 500 records in total. The albums span a wide range of years, from the 1960s to the present. Various genres are represented, including rock, pop, hip-hop, jazz, and classical. The dataset is a valuable resource for analyzing and studying trends in the music industry over the years.\n",
      "--------------------------------------------------\n",
      "3.\n",
      "Dataset Name: Meta_Album_PLK_Extended\n",
      "Dataset ID: 44317.0\n",
      "Dataset URL: https://www.openml.org/d/44317.0\n",
      "Dataset Description: The dataset \"Meta_Album_PLK_Extended\" is a collection of extended album metadata. It contains information about various albums, including genres, release dates, album durations, number of tracks, and song titles. The dataset covers different music genres like pop, rock, hip-hop, and classical. It includes albums from different years, spanning several decades, and incorporates albums from both well-known and less-known artists. The dataset aims to provide a comprehensive range of album metadata, enabling various research and analysis in the field of music and album analytics. Overall, it offers a rich and diverse collection of extended album information.\n",
      "--------------------------------------------------\n",
      "4.\n",
      "Dataset Name: Meta_Album_FLW_Micro\n",
      "Dataset ID: 44239.0\n",
      "Dataset URL: https://www.openml.org/d/44239.0\n",
      "Dataset Description: The dataset Meta_Album_FLW_Micro contains information about albums, artists, and their respective genres. It provides detailed attributes such as release date, duration, and popularity score. The dataset also includes information on track titles, their durations, and album rankings. It covers a wide range of music genres including pop, rock, hip-hop, and classical. The dataset offers comprehensive information to analyze and understand album trends, artist popularity, and genre preferences. It can be valuable for music industry professionals, researchers, and enthusiasts to explore and gain insights into the ever-evolving landscape of the music industry.\n",
      "--------------------------------------------------\n",
      "5.\n",
      "Dataset Name: Meta_Album_MED_LF_Extended\n",
      "Dataset ID: 44332.0\n",
      "Dataset URL: https://www.openml.org/d/44332.0\n",
      "Dataset Description: The dataset Meta_Album_MED_LF_Extended contains information about music albums collected from various sources, including online music platforms and user reviews. It consists of multiple attributes such as album title, artist name, release date, genre, and album rating. The dataset also includes extended attributes like artist popularity, album sales, and number of tracks. The information is gathered using both manual and automated methods, ensuring a comprehensive and diverse collection of albums across different genres and time periods. It serves as a valuable resource for analyzing music trends, artist popularity, and user preferences in the music industry.\n",
      "--------------------------------------------------\n"
     ]
    }
   ],
   "source": [
    "names, dids, descriptions, urls = search_top_related_local_datasets_with_cs(keywords)\n",
    "\n",
    "if len(names) == 0:\n",
    "    print(\"No related datasets found.\")\n",
    "else:\n",
    "    print(\"For this, we recommend the following datasets:\")\n",
    "    for i, _ in enumerate(names):\n",
    "        print(f'{i + 1}.')\n",
    "        print(\"Dataset Name:\", names[i])\n",
    "        print(\"Dataset ID:\", dids[i])\n",
    "        print(\"Dataset URL:\", urls[i])\n",
    "        print(\"Dataset Description:\", descriptions[i])\n",
    "        print('-'*50)"
   ]
  }
 ],
 "metadata": {
  "kernelspec": {
   "display_name": "catalogenv",
   "language": "python",
   "name": "catalogenv"
  },
  "language_info": {
   "codemirror_mode": {
    "name": "ipython",
    "version": 3
   },
   "file_extension": ".py",
   "mimetype": "text/x-python",
   "name": "python",
   "nbconvert_exporter": "python",
   "pygments_lexer": "ipython3",
   "version": "3.9.17"
  }
 },
 "nbformat": 4,
 "nbformat_minor": 5
}
