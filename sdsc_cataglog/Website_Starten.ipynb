{
 "cells": [
  {
   "cell_type": "markdown",
   "id": "10d739d5-8406-46c4-9a90-eff6b23b55a2",
   "metadata": {},
   "source": [
    "# Website Starten\n",
    "Führe die folgende Zelle aus, um einen Link zur Website zu erstellen. Klicke auf den Link, um die Website zu öffnen.\n",
    "Nach dem Start der Website kann ein Anwendungsfall eingeben werden. Die Website gibt dann jeweils für jedes Schlüsselwort fünf Datensätze und Github Repositories aus."
   ]
  },
  {
   "cell_type": "code",
   "execution_count": null,
   "id": "888673cb",
   "metadata": {
    "scrolled": true
   },
   "outputs": [],
   "source": [
    "from app.app import app\n",
    "\n",
    "if __name__ == '__main__':\n",
    "    app.run_server(mode='external')"
   ]
  }
 ],
 "metadata": {
  "kernelspec": {
   "display_name": "rag_catalog",
   "language": "python",
   "name": "rag_catalog"
  },
  "language_info": {
   "codemirror_mode": {
    "name": "ipython",
    "version": 3
   },
   "file_extension": ".py",
   "mimetype": "text/x-python",
   "name": "python",
   "nbconvert_exporter": "python",
   "pygments_lexer": "ipython3",
   "version": "3.9.19"
  }
 },
 "nbformat": 4,
 "nbformat_minor": 5
}
