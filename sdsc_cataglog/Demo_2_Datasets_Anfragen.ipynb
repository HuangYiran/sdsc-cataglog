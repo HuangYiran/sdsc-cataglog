{
 "cells": [
  {
   "cell_type": "markdown",
   "id": "e4863475-ddba-4e10-95e8-84aeee5f98b7",
   "metadata": {},
   "source": [
    "# Lokale Anfragen\n",
    "\n",
    "# Vorgehen\n",
    "Genau wie bei den Repositories aus der vorherigen Demo. Kann ChatGPT keine aktuellen Datasets vorschlagen. Deswegen haben wir ähnlich zu den Github-Repositories eine lokale Datenbank für OpenAI Datasets erzeugt. Diese wird dann bei eine Anfrage durchsucht. \n",
    "\n",
    "Dazu werden ebenfalls Wordembeddings verwendet. Mit Hilfe der Cosinus Similarity werden die Wordembeddings der Anwendungsfall-Schlüsselworte mit der Beschreibung der Datasets verglichen. Dadurch werden die Datasets, die zu dem Anwendungsfall passen herausgefiltert\n",
    "\n",
    "Im folgenden zeigen wir im Detail, wie wir vorgehen.\n",
    "\n",
    "## Packete laden\n",
    "Zuerst laden wir die benötigten Pakete."
   ]
  },
  {
   "cell_type": "code",
   "execution_count": null,
   "id": "e44ea08e",
   "metadata": {},
   "outputs": [],
   "source": [
    "from data_requests.openml_request import search_top_related_local_datasets_with_cs"
   ]
  },
  {
   "cell_type": "markdown",
   "id": "8514fbde",
   "metadata": {},
   "source": [
    "\"search_top_related_local_datasets_with_cs\" verwendet Wordembeddings, um in der lokalen Datenbank nach passenden Datasets zu suchen.\n",
    "\n",
    "In Demo 1 haben wir bereits vorgestellt, wie man aus einem Anwendungsfall mit Hilfe von ChatGPT Schlüsselwörter generieren kann. Im folgenden werden dann die gefundenen Schlüsselwörter verwendet, um Datasets zu finden. Als Beispiel haben wir die folgenen Schlüsselwörter gewählt. "
   ]
  },
  {
   "cell_type": "code",
   "execution_count": null,
   "id": "7ad27cbf",
   "metadata": {},
   "outputs": [],
   "source": [
    "keywords = [\"music\", \"album\", \"genres\"]"
   ]
  },
  {
   "cell_type": "markdown",
   "id": "6fd2cb46",
   "metadata": {},
   "source": [
    "Basierend auf diesen Schlüsselwörtern wird dann diese Ausgabe erzeugt:"
   ]
  },
  {
   "cell_type": "code",
   "execution_count": null,
   "id": "1c523dca-d08e-4e3a-ac18-163bdc718646",
   "metadata": {
    "tags": []
   },
   "outputs": [],
   "source": [
    "names, dids, descriptions, urls = search_top_related_local_datasets_with_cs(keywords)\n",
    "\n",
    "if len(names) == 0:\n",
    "    print(\"Keine verwandten Datasets gefunden.\")\n",
    "else:\n",
    "    print(\"Für diesen Anwendungsfall schlagen wir die folgenden Dataset vor:\")\n",
    "    for i, _ in enumerate(names):\n",
    "        print(f'{i + 1}.')\n",
    "        print(\"Dataset Name:\", names[i])\n",
    "        print(\"Dataset ID:\", dids[i])\n",
    "        print(\"Dataset URL:\", urls[i])\n",
    "        print(\"Dataset Beschreibung:\", descriptions[i])\n",
    "        print('-'*50)"
   ]
  }
 ],
 "metadata": {
  "kernelspec": {
   "display_name": "catalogenv",
   "language": "python",
   "name": "catalogenv"
  },
  "language_info": {
   "codemirror_mode": {
    "name": "ipython",
    "version": 3
   },
   "file_extension": ".py",
   "mimetype": "text/x-python",
   "name": "python",
   "nbconvert_exporter": "python",
   "pygments_lexer": "ipython3",
   "version": "3.9.17"
  }
 },
 "nbformat": 4,
 "nbformat_minor": 5
}
