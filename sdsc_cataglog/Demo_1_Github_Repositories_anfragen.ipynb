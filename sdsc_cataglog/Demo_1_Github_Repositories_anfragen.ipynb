{
 "cells": [
  {
   "cell_type": "markdown",
   "id": "f0e1eb9a-d9f0-4885-8aed-58a2e464f513",
   "metadata": {
    "tags": []
   },
   "source": [
    "# Thema und Hintergrund\n",
    "Das Hauptziel dieses Projekts ist die Implementierung einer Anwendung, die Github-Tools und Openml-Datensätze ausgeben kann, die den Benutzereingaben entsprechen. Der Benutzer kann eine Beschreibung seiner aktuellen Herausforderung hinzufügen, und das Tool kann entsprechende Informationen zu dieser Herausforderung vorschlagen.\n",
    "\n",
    "Wir alle wissen, dass das mittlerweile ChatGPT ein starkes Wissen in verschiedenen Bereichen aufweist. Vor allem in Kombination mit der Bing-Suche ist es in der Lage, entsprechende Websites direkt auf Anfrage zu liefern. Aber ChatGPT hat einige Einschränkungen:\n",
    "\n",
    "Das Wissen von ChatGPT ist auf Daten vor September 2021 trainiert, so dass es keine Möglichkeit gibt, Informationen nach diesem Datum zu liefern.\n",
    "ChatGPT hat keine Möglichkeit, komplexe logische Beziehungen zu analysieren.\n",
    "ChatGPT kann keine zitierten Quellen auflisten und seine Verlässlichkeit basiert auf der Verlässlichkeit der Quelleninformationen, die von Natur aus falsch, inkonsistent, falsch oder widersprüchlich sein können, nachdem sie von ChatGPT kombiniert wurden.\n",
    "\n",
    "Die drei oben genannten Punkte führen dazu, dass es keine Möglichkeit gibt, ChatGPT direkt nach Github Repositories zu fragen.\n",
    "Deshalb gehen wir wie folgenden Notebook gezeigt vor.\n",
    "\n",
    "Wir nehemn folgende Aufgabe als Beispiel\n",
    "“Geht es darum, die Sicherheit von Radwegen zu ermitteln, ist das Forschungspotential riesig. Ziel des SDSC-BW-Projekts war es, dieses zu erkunden. Ob der zahlreichen Problematiken gestaltete sich bereits die Erstellung eines Rahmenwerks schwierig. An erster Stelle standen die vielfältigen, teils verwirrenden Datenquellen – darunter unterschiedliche Websites, die Daten auf ihre eigene Weise abspeichern.”\n",
    "\n",
    "Das Ergebnis, wenn man die Aufgabe in Bing eingibt:\n",
    "\n",
    "<img src=\"images/bing_result.png\" alt=\"feedback from bing search\" width=\"800\" height=\"600\">"
   ]
  },
  {
   "cell_type": "markdown",
   "id": "81e78e7e-f1c9-454e-b4ba-4d08172bf6f4",
   "metadata": {
    "tags": []
   },
   "source": [
    "\n",
    "Das Ergebnis, wenn man die Aufgabe in ChatGPT eingibt:\n",
    "\n",
    "<div style=\"display: inline-block;\"><img src=\"images/chatgpt_result.png\" alt=\"feedback from chatgpt chatbot\" width=\"700\" height=\"500\"></div>\n",
    "\n",
    "Wie wir sehen können, gibt gibt ChatGPT keine Webseite zurück, die einen direkten Bezug zu unserem Zweck hat.\n"
   ]
  },
  {
   "cell_type": "markdown",
   "id": "03cf6bb8-dd78-4268-a653-5b670b77010e",
   "metadata": {
    "tags": []
   },
   "source": [
    "Obwohl ChatGPT die Herausforderungen zusammenfassen kann, sind die zur Verfügung gestellten Werkzeuge wenig passen. Darüber hinaus gibt es viele zusätzliche Beschreibungen, die die Antworten kompliziert erscheinen lassen.\n",
    "\n",
    "# Vorgehen\n",
    "Um die Probleme von ChatGPT zu lösen, wie z.B. die mangelnde Fähigkeit, komplexe Eingaben zu analysieren, komplexe Antworten, die Unfähigkeit, Echtzeit-Tools bereitzustellen, und mögliche Fehler in den bereitgestellten Links. Unsere Kernideen ist:\n",
    "\n",
    "1. Die Anforderungen zu zerlegen und jeweils nur einfache Fragen an ChatGPT zu stellen.\n",
    "2. Die Ausgabe einzuschränken, damit sie kurz und themenbezogen ist.\n",
    "3. Verwendung der Github-API, um die neuesten Github-Daten zu erhalten, um die Popularität und Effektivität des Tools zu gewährleisten.\n",
    "\n",
    "Im folgenden zeigen wir im Detail, wie wir vorgehen.\n",
    "\n",
    "## Packete laden\n",
    "Zuerst laden wir die benötigten Pakete."
   ]
  },
  {
   "cell_type": "code",
   "execution_count": null,
   "id": "71f6688b-130a-431d-a127-bd2c2462a19e",
   "metadata": {
    "tags": []
   },
   "outputs": [],
   "source": [
    "from data_requests.git_request import search_top_starred_repositories\n",
    "from data_requests.gpt_request import get_response_from_chatgpt_with_context\n",
    "\n",
    "import os\n",
    "import pandas as pd\n",
    "import requests"
   ]
  },
  {
   "cell_type": "markdown",
   "id": "479fbe7b-cef2-459a-99a5-92343ebb69d5",
   "metadata": {},
   "source": [
    "\"git_request\" und \"gpt_request\" sind benutzerdefinierte Pakete, um über Github eine Liste von Repositories und über Openai eine Liste von Chatgpt-Dienst anzufordern.\n",
    "\"pandas\" ist ein Werkzeug zur Datenanalyse. \n",
    "\"requests\" ist ein Werkzeug für den Netzwerkzugriff."
   ]
  },
  {
   "cell_type": "code",
   "execution_count": null,
   "id": "6f9af270-3974-4054-965a-0a3445c39881",
   "metadata": {
    "tags": []
   },
   "outputs": [],
   "source": [
    "use_case = input(\"Bitte gib einen Anwendungsfall ein: \")\n",
    "\n",
    "# get the theme from the user case\n",
    "prompt = f\"Welches Thema wird in dem folgenden Anwendungsfall untersucht? Bitte antworten Sie nur mit einem Schlüsselwort mit weniger als 20 Buchstaben: {use_case}\"\n",
    "context = []\n",
    "response, context = get_response_from_chatgpt_with_context(prompt, context)\n",
    "print(f\"\\nDas Thema des Anwendungsfalls ist: {response}\\n\")\n"
   ]
  },
  {
   "cell_type": "markdown",
   "id": "faa85abf-d541-4b07-990d-592bbbe6fa50",
   "metadata": {
    "tags": []
   },
   "source": [
    "Zunächst haben wir ChatGPT das Thema analysieren lassen. Um die Kürze der Antwort zu gewährleisten, haben wir die Ausgabe von ChatGPT durch die folgende Bedingung eingeschränkt."
   ]
  },
  {
   "cell_type": "code",
   "execution_count": null,
   "id": "214ef94c-dcc7-4433-8d23-b9d66b8bc086",
   "metadata": {
    "tags": []
   },
   "outputs": [],
   "source": [
    "# get the challenge from the user case\n",
    "prompt = f\"Welches ist das Hauptproblem, mit dem diese Studie konfrontiert ist? Bitte antworten Sie mit 3 Schlüsselwörtern und ohne Erklärung\"\n",
    "response, context = get_response_from_chatgpt_with_context(prompt, context)\n",
    "print(f\"Die größten Herausforderungen sind: \\n{response}\\n\")"
   ]
  },
  {
   "cell_type": "markdown",
   "id": "9805714c-1297-4cc1-a8b2-640700cf8956",
   "metadata": {},
   "source": [
    "Dann fragen wir ChatGPT nach einer Zusammenfassung der drei Herausforderungen, die sich bei diesem Thema stellen. Da diese Herausforderung auf eine spätere Github-Suche angewandt werden soll, soll ChatGPT, anhand von Schlüsselwörtern und ohne Erklärung antworten."
   ]
  },
  {
   "cell_type": "code",
   "execution_count": null,
   "id": "e932e864-ec26-40f4-9061-a0a6f6bf216a",
   "metadata": {
    "tags": []
   },
   "outputs": [],
   "source": [
    "# ask for keywords for python tools\n",
    "prompt = f\"Ich möchte nach Python-Tools für das obige Problem nach Schlüsselwörtern suchen, welche Schlüsselwörter sollte ich verwenden, bitte geben Sie mir 3 Vorschläge und trennen Sie sie mit Semikolon, ohne Erklärung\"\n",
    "response, context = get_response_from_chatgpt_with_context(prompt, context)\n",
    "keywords = response.split(\";\")\n",
    "\n",
    "# list the advised git repos\n",
    "for keyword in keywords:\n",
    "    prompt = f\"Erkläre in weniger als 50 Wörtern warum {keyword} in Kontext von diesem Anwendungsfall gebraucht wird.\"\n",
    "    response, context = get_response_from_chatgpt_with_context(prompt, context)\n",
    "    print(response)\n",
    "\n",
    "    git_urls, readme_urls = search_top_starred_repositories(keyword+' python')\n",
    "    if git_urls is not None:\n",
    "        print(\"Für diesen Anwendungsfall schlagen wir die folgenden Repositories vor:\")\n",
    "        for git_url, readme_url in zip(git_urls, readme_urls):\n",
    "            print(\"Repository URL:\", git_url)\n",
    "            print(\"README URL:\", readme_url)\n",
    "        print('-'*50)"
   ]
  },
  {
   "cell_type": "markdown",
   "id": "e4863475-ddba-4e10-95e8-84aeee5f98b7",
   "metadata": {},
   "source": [
    "Auf der Grundlage jedes oben angegebenen Schlüsselworts suchen wir auf dem Github-Server nach passenden Tools und geben die 5 besten Ergebnisse zurück, geordnet nach der Verbreitung dieser Tools. Da die Ergebnisse über den github-Server bereitgestellt werden, ist die Zuverlässigkeit der Ergebnisse gewährleistet. Da wir außerdem nach zusammengefassten Schlüsselwörtern suchen, sind die Ergebnisse eng mit unserem Forschungsthema verbunden.\n",
    "\n",
    "Die Stichwortsuche basiert auf den folgenden drei Inhalten:\n",
    "1. Namen und die Beschreibung des Repositorys\n",
    "2. Quellcode und Dateiinhalt\n",
    "3. Probleme\n",
    "\n",
    "Dadurch wird sichergestellt, dass das Repository auch dann durchsucht werden kann, wenn die Schlüsselwörter des Repository-Besitzers falsch gesetzt sind. Da die Schlüsselwörter von chatgpt zusammengefasst werden, ist gewährleistet, dass die erhaltenen Schlüsselwörter keine ungewöhnlichen Wörter enthalten.\n",
    "\n",
    "# Lokale Anfragen\n",
    "Natürlich hat das oben beschriebene Verfahren auch Nachteile. Zum Beispiel müssen die Schlüsselwörter im Inhalt des Repositorys erscheinen. Es wir außerdem eine Netzverbindung benötigt.\n",
    "\n",
    "Das erste Problem kann durch Wordembeddings gelöst werden. Durch das Wordembeddings der Schlüsselwörter und der Readme-Datei des Repositorys können wir das passende Repository finden, indem wir die Ähnlichkeit der beiden Wordembeddings vergleichen. \n",
    "\n",
    "Das zweite Problem kann durch den lokalen Einsatz von ChatGPT gelöst werden. Openai's ChatGPT-4 ist noch nicht open source, aber es gibt bereits viele open source Alternativen. Wir können unser Ziel erreichen, indem wir diese Alternativen lokal bereitstellen.\n",
    "\n",
    "Zu diesem Zweck laden wir zunächst zwei benutzerdefinierte Methoden."
   ]
  },
  {
   "cell_type": "code",
   "execution_count": null,
   "id": "1dddad50-6e33-43b0-a751-d583e306faf4",
   "metadata": {
    "tags": []
   },
   "outputs": [],
   "source": [
    "from data_generation.generate_local_github_database import download_and_save_git_reposiories_according_to_keyword\n",
    "from data_requests.git_request import search_top_related_local_repositories_with_cs"
   ]
  },
  {
   "cell_type": "markdown",
   "id": "d90ef818-ca54-4e3a-b916-8c4bd3b08850",
   "metadata": {
    "tags": []
   },
   "source": [
    "\"download_and_save_git_stared_reposiories\" lädt die Repository-Informationen in den lokalen Speicher. \"search_top_related_local_repositories\" stellt ein lokales ChatGPT bereit und verwendet Wordembeddings, um in der lokalen Datenbank nach passenden Repositories zu suchen."
   ]
  },
  {
   "cell_type": "code",
   "execution_count": null,
   "id": "1c523dca-d08e-4e3a-ac18-163bdc718646",
   "metadata": {
    "tags": []
   },
   "outputs": [],
   "source": [
    "# ask for keywords for python tools\n",
    "prompt = f\"Ich möchte nach Python-Tools für das obige Problem nach Schlüsselwörtern suchen, welche Schlüsselwörter sollte ich verwenden, bitte geben Sie mir 3 Vorschläge und trennen Sie sie mit Semikolon, ohne Erklärung\"\n",
    "response, context = get_response_from_chatgpt_with_context(prompt, context)\n",
    "keywords = response.split(\";\")\n",
    "\n",
    "# list the advised git repos\n",
    "for keyword in keywords:\n",
    "    prompt = f\"Erkläre in weniger als 50 Wörtern warum {keyword} in Kontext von diesem Anwendungsfall gebraucht wird.\"\n",
    "    response, context = get_response_from_chatgpt_with_context(prompt, context)\n",
    "    print(response)\n",
    "\n",
    "    git_urls, readme_urls = download_and_save_git_reposiories_according_to_keyword(keyword, database_path = './data/repositories.csv')\n",
    "    if git_urls is not None:\n",
    "        print(\"Für diesen Anwendungsfall schlagen wir die folgenden Repositories vor:\")\n",
    "        for git_url, readme_url in zip(git_urls, readme_urls):\n",
    "            print(\"Repository URL:\", git_url)\n",
    "            print(\"README URL:\", readme_url)\n",
    "        print('-'*50)\n"
   ]
  },
  {
   "cell_type": "markdown",
   "id": "0f730443-ba04-426d-832c-52326827a293",
   "metadata": {},
   "source": [
    "Wir können sehen, dass es auch lokal gut funktioniert. Da die von uns verwendete Testdatenbank nur zweihundert verschiedene Repositories enthält und eher zentralisiert ist, sehen die Ergebnisse nicht so gut aus wie die Online-Ergebnisse. Dies kann jedoch durch eine Vergrößerung des lokalen Datensatzes behoben werden."
   ]
  },
  {
   "cell_type": "code",
   "execution_count": null,
   "id": "a0746de5-8289-47ab-8a5b-cc22adddc193",
   "metadata": {},
   "outputs": [],
   "source": []
  }
 ],
 "metadata": {
  "kernelspec": {
   "display_name": "catalogenv",
   "language": "python",
   "name": "catalogenv"
  },
  "language_info": {
   "codemirror_mode": {
    "name": "ipython",
    "version": 3
   },
   "file_extension": ".py",
   "mimetype": "text/x-python",
   "name": "python",
   "nbconvert_exporter": "python",
   "pygments_lexer": "ipython3",
   "version": "3.9.17"
  }
 },
 "nbformat": 4,
 "nbformat_minor": 5
}
